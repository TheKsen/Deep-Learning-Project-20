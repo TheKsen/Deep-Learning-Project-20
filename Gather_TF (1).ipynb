{
 "cells": [
  {
   "cell_type": "code",
   "execution_count": 1,
   "id": "dda97319",
   "metadata": {
    "tags": []
   },
   "outputs": [],
   "source": [
    "import sys\n",
    "import numpy as np\n",
    "import pandas as pd\n",
    "import torch\n",
    "import codecs\n",
    "from tqdm import tqdm\n",
    "from ast import literal_eval\n",
    "np.set_printoptions(threshold=sys.maxsize)"
   ]
  },
  {
   "cell_type": "code",
   "execution_count": 2,
   "id": "10cffc0f",
   "metadata": {},
   "outputs": [],
   "source": [
    "def find_ASA(text):\n",
    "    n = 100\n",
    "    a = []\n",
    "    for i in tqdm(range(n)):\n",
    "        try:\n",
    "            index = text.index(\"ASA\")          \n",
    "            text = text[index+1:]\n",
    "\n",
    "            new_index = text.index(\"ASA\")\n",
    "            b = ''\n",
    "            while text[new_index-2].isnumeric() or text[new_index-2] == '.':\n",
    "                b = text[new_index-2] + b\n",
    "                new_index = new_index-1\n",
    "            \n",
    "            if b == '':\n",
    "                a.append(0)\n",
    "            else:\n",
    "                a.append(float(b))\n",
    "        except:\n",
    "            a.append(0)\n",
    "    return a\n"
   ]
  },
  {
   "cell_type": "code",
   "execution_count": 3,
   "id": "3c24ad0f",
   "metadata": {
    "scrolled": true,
    "tags": []
   },
   "outputs": [],
   "source": [
    "import os\n",
    "\n",
    "# folder path\n",
    "dir_path = r'D:\\DTU\\Test_Foldseek_html'\n",
    "\n",
    "# list to store files\n",
    "res = []\n",
    "# Iterate directory\n",
    "for file in os.listdir(dir_path):\n",
    "    # check only text files\n",
    "    if file.endswith('.html'):\n",
    "        res.append(file)"
   ]
  },
  {
   "cell_type": "code",
   "execution_count": 4,
   "id": "8e459bd0-bf0a-465d-95f0-1dd0709e81ee",
   "metadata": {},
   "outputs": [
    {
     "data": {
      "text/plain": [
       "27"
      ]
     },
     "execution_count": 4,
     "metadata": {},
     "output_type": "execute_result"
    }
   ],
   "source": [
    "len(res)"
   ]
  },
  {
   "cell_type": "code",
   "execution_count": 6,
   "id": "7c2fe7a3-cff2-4fac-8769-54fd3c946b15",
   "metadata": {
    "tags": []
   },
   "outputs": [
    {
     "name": "stderr",
     "output_type": "stream",
     "text": [
      "100%|██████████| 100/100 [00:00<00:00, 102801.57it/s]\n",
      "100%|██████████| 100/100 [00:00<00:00, 24951.24it/s]\n",
      "100%|██████████| 100/100 [00:00<00:00, 25057.08it/s]\n",
      "100%|██████████| 100/100 [00:00<00:00, 100270.24it/s]\n",
      "100%|██████████| 100/100 [00:00<00:00, 50081.24it/s]\n",
      "100%|██████████| 100/100 [00:00<00:00, 100174.44it/s]\n",
      "100%|██████████| 100/100 [00:00<00:00, 100318.20it/s]\n",
      "100%|██████████| 100/100 [00:00<?, ?it/s]\n",
      "100%|██████████| 100/100 [00:00<00:00, 60532.60it/s]\n",
      "100%|██████████| 100/100 [00:00<00:00, 49961.93it/s]\n",
      "100%|██████████| 100/100 [00:00<00:00, 111225.25it/s]\n",
      "100%|██████████| 100/100 [00:00<00:00, 50674.21it/s]\n",
      "100%|██████████| 100/100 [00:00<00:00, 2571.16it/s]\n",
      "100%|██████████| 100/100 [00:00<00:00, 50219.16it/s]\n",
      "100%|██████████| 100/100 [00:00<00:00, 25054.08it/s]\n",
      "100%|██████████| 100/100 [00:00<00:00, 50135.12it/s]\n",
      "100%|██████████| 100/100 [00:00<00:00, 66239.80it/s]\n",
      "100%|██████████| 100/100 [00:00<00:00, 50129.13it/s]\n",
      "100%|██████████| 100/100 [00:00<00:00, 2571.00it/s]\n",
      "100%|██████████| 100/100 [00:00<00:00, 16091.09it/s]\n",
      "100%|██████████| 100/100 [00:00<00:00, 25067.56it/s]\n",
      "100%|██████████| 100/100 [00:00<00:00, 33748.83it/s]\n",
      "100%|██████████| 100/100 [00:00<?, ?it/s]\n",
      "100%|██████████| 100/100 [00:00<?, ?it/s]\n",
      "100%|██████████| 100/100 [00:00<00:00, 50129.13it/s]\n",
      "100%|██████████| 100/100 [00:00<00:00, 20047.34it/s]\n",
      "100%|██████████| 100/100 [00:00<00:00, 100390.23it/s]\n"
     ]
    }
   ],
   "source": [
    "# missing files: 18,19,43,172,297,399,421,466,477\n",
    "new_ASA = []\n",
    "i = 0\n",
    "for doc in res:    \n",
    "    if doc[4:8] == 'NONE':\n",
    "        new_ASA.append(np.zeros(100))\n",
    "    else:\n",
    "        f=codecs.open(doc, 'r')\n",
    "        text = f.read()\n",
    "\n",
    "        asa = find_ASA(text)\n",
    "        new_ASA.append(asa)\n",
    "    i+=1"
   ]
  },
  {
   "cell_type": "code",
   "execution_count": 7,
   "id": "d5108255-3cd9-48d3-aacd-1ee024abac81",
   "metadata": {},
   "outputs": [],
   "source": [
    "final_targsV2_ASA = torch.tensor(new_ASA)"
   ]
  },
  {
   "cell_type": "code",
   "execution_count": 8,
   "id": "7edc1f4d-fd98-466c-a2a7-8ac60d059876",
   "metadata": {},
   "outputs": [
    {
     "data": {
      "text/plain": [
       "torch.Size([27, 100])"
      ]
     },
     "execution_count": 8,
     "metadata": {},
     "output_type": "execute_result"
    }
   ],
   "source": [
    "final_targsV2_ASA.shape"
   ]
  },
  {
   "cell_type": "code",
   "execution_count": 9,
   "id": "d8a32f08-1802-4ef0-ac61-e83ea5bdc3ab",
   "metadata": {},
   "outputs": [],
   "source": [
    "torch.save(final_targsV2_ASA,\"Foldseek_targs_test_ASA\")"
   ]
  }
 ],
 "metadata": {
  "kernelspec": {
   "display_name": "Python 3 (ipykernel)",
   "language": "python",
   "name": "python3"
  },
  "language_info": {
   "codemirror_mode": {
    "name": "ipython",
    "version": 3
   },
   "file_extension": ".py",
   "mimetype": "text/x-python",
   "name": "python",
   "nbconvert_exporter": "python",
   "pygments_lexer": "ipython3",
   "version": "3.9.12"
  }
 },
 "nbformat": 4,
 "nbformat_minor": 5
}
