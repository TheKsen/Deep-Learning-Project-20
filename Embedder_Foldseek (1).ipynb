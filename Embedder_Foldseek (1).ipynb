{
 "cells": [
  {
   "cell_type": "code",
   "execution_count": 1,
   "id": "cb68b0c1-296e-4278-98fb-b72a4a8eca0e",
   "metadata": {},
   "outputs": [],
   "source": [
    "import pandas as pd\n",
    "import csv"
   ]
  },
  {
   "cell_type": "code",
   "execution_count": 2,
   "id": "2ccb5532-9901-4ecc-b64a-05b589b6685f",
   "metadata": {},
   "outputs": [],
   "source": [
    "a = open(\"extra_test_seq.txt\",'r')\n",
    "text = a.read()"
   ]
  },
  {
   "cell_type": "code",
   "execution_count": 3,
   "id": "42d63f09-c0ff-4f3f-ac71-d10654e82db1",
   "metadata": {
    "tags": []
   },
   "outputs": [],
   "source": [
    "text = text.replace(\"\\n\",\" \")"
   ]
  },
  {
   "cell_type": "code",
   "execution_count": 4,
   "id": "b8a70173-2821-4405-b282-54d4f35ecae4",
   "metadata": {},
   "outputs": [],
   "source": [
    "Seqs = []\n",
    "a = ''\n",
    "for i in text:\n",
    "    if i == ' ':\n",
    "        a = \" \".join(a)\n",
    "        Seqs.append(a)\n",
    "        a = ''\n",
    "    else:\n",
    "        a = a + i"
   ]
  },
  {
   "cell_type": "code",
   "execution_count": 11,
   "id": "d60eaa8e-2ed6-4b00-8257-3e895c6af206",
   "metadata": {
    "tags": []
   },
   "outputs": [],
   "source": [
    "Seqs = Seqs[:27]"
   ]
  },
  {
   "cell_type": "code",
   "execution_count": 13,
   "id": "e9986b95-3e9f-4c20-8000-aabb776bb439",
   "metadata": {},
   "outputs": [
    {
     "data": {
      "text/html": [
       "<pre style=\"white-space:pre;overflow-x:auto;line-height:normal;font-family:Menlo,'DejaVu Sans Mono',consolas,'Courier New',monospace\">Device: <span style=\"color: #800000; text-decoration-color: #800000\">cpu</span>\n",
       "</pre>\n"
      ],
      "text/plain": [
       "Device: \u001b[31mcpu\u001b[0m\n"
      ]
     },
     "metadata": {},
     "output_type": "display_data"
    }
   ],
   "source": [
    "! pip install ipywidgets rich seaborn torch datasets transformers tokenizers sentencepiece sacremoses --quiet\n",
    "\n",
    "%matplotlib inline\n",
    "\n",
    "import os\n",
    "os.environ[\"TOKENIZERS_PARALLELISM\"] = \"false\"\n",
    "\n",
    "import torch\n",
    "from torch import nn\n",
    "import math\n",
    "from functools import partial\n",
    "from pathlib import Path\n",
    "from tqdm import tqdm\n",
    "import rich\n",
    "from typing import List, Tuple, Optional, Dict, Any\n",
    "import matplotlib.pyplot as plt\n",
    "import seaborn as sns\n",
    "import numpy as np\n",
    "import pandas as pd\n",
    "import transformers\n",
    "import tokenizers\n",
    "import datasets\n",
    "import zipfile\n",
    "from huggingface_hub import hf_hub_download\n",
    "\n",
    "sns.set()\n",
    "\n",
    "# define the device to use\n",
    "DEVICE = torch.device(\"cuda\") if torch.cuda.is_available() else torch.device(\"cpu\")\n",
    "rich.print(f\"Device: [red]{DEVICE}\")\n",
    "\n",
    "# control verbosity\n",
    "transformers.logging.set_verbosity_error()\n",
    "datasets.logging.set_verbosity_error()"
   ]
  },
  {
   "cell_type": "code",
   "execution_count": 14,
   "id": "1c8c5000-dd15-452e-abb4-e6ffd9a1fd14",
   "metadata": {},
   "outputs": [],
   "source": [
    "from transformers import BertModel, BertTokenizer\n",
    "import re\n",
    "tokenizer = BertTokenizer.from_pretrained('Rostlab/prot_bert_bfd', do_lower_case=False)\n",
    "model_embedder = BertModel.from_pretrained(\"Rostlab/prot_bert_bfd\")"
   ]
  },
  {
   "cell_type": "code",
   "execution_count": 15,
   "id": "331624f5-aad3-4fc3-a740-8418b3b101ed",
   "metadata": {},
   "outputs": [],
   "source": [
    "t_data = []"
   ]
  },
  {
   "cell_type": "code",
   "execution_count": 16,
   "id": "7f323dad-d658-4fce-b071-13cea56e141f",
   "metadata": {},
   "outputs": [],
   "source": [
    "for seq in range(0,len(Seqs)):\n",
    "    sequence_train = Seqs[seq]\n",
    "    encoded_input = tokenizer(sequence_train, return_tensors='pt')\n",
    "    output = model_embedder(**encoded_input)\n",
    "    t_data.append(output[0])"
   ]
  },
  {
   "cell_type": "code",
   "execution_count": 17,
   "id": "a1ec1f2e-8fdd-4d6b-9115-3d492e0c39ed",
   "metadata": {},
   "outputs": [],
   "source": [
    "New = torch.concat(t_data)"
   ]
  },
  {
   "cell_type": "code",
   "execution_count": 18,
   "id": "1e33d859-8878-4371-92f2-4b72b66cf330",
   "metadata": {},
   "outputs": [
    {
     "data": {
      "text/plain": [
       "torch.Size([27, 102, 1024])"
      ]
     },
     "execution_count": 18,
     "metadata": {},
     "output_type": "execute_result"
    }
   ],
   "source": [
    "New.shape"
   ]
  },
  {
   "cell_type": "code",
   "execution_count": 20,
   "id": "1f73b7c1-a06d-42d8-b4f2-6d58f31dfb85",
   "metadata": {},
   "outputs": [],
   "source": [
    "torch.save(New,\"27_test_Foldseek_Embedded\")"
   ]
  }
 ],
 "metadata": {
  "kernelspec": {
   "display_name": "Python 3 (ipykernel)",
   "language": "python",
   "name": "python3"
  },
  "language_info": {
   "codemirror_mode": {
    "name": "ipython",
    "version": 3
   },
   "file_extension": ".py",
   "mimetype": "text/x-python",
   "name": "python",
   "nbconvert_exporter": "python",
   "pygments_lexer": "ipython3",
   "version": "3.9.12"
  }
 },
 "nbformat": 4,
 "nbformat_minor": 5
}
