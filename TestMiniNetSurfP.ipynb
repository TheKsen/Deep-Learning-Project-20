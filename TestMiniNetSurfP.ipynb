{
 "cells": [
  {
   "cell_type": "code",
   "execution_count": 19,
   "id": "0c028f6c-9759-417e-93d8-0abaf8fb43eb",
   "metadata": {},
   "outputs": [],
   "source": [
    "import torch\n",
    "import numpy as np\n",
    "import pandas as pd\n",
    "\n",
    "%matplotlib inline\n",
    "import matplotlib\n",
    "import matplotlib.pyplot as plt"
   ]
  },
  {
   "cell_type": "code",
   "execution_count": 20,
   "id": "092cd2c5-f23d-4902-b81d-23ba75f2e128",
   "metadata": {},
   "outputs": [
    {
     "name": "stdout",
     "output_type": "stream",
     "text": [
      "torch.Size([21, 102, 1024]) torch.Size([279, 102, 1024]) torch.Size([21, 102, 1024])\n",
      "torch.Size([21, 100]) torch.Size([279, 100]) torch.Size([21, 100])\n"
     ]
    }
   ],
   "source": [
    "valid_data,train_data,test_data = torch.load(\"Fold1_data\")\n",
    "valid_targ,train_targ,test_targ = torch.load(\"Fold1_targ\")\n",
    "print(valid_data.shape,train_data.shape,test_data.shape)\n",
    "print(valid_targ.shape,train_targ.shape,test_targ.shape)"
   ]
  },
  {
   "cell_type": "code",
   "execution_count": 21,
   "id": "5a791f06-3f06-4956-a180-8b8dbc5ccd2a",
   "metadata": {},
   "outputs": [
    {
     "name": "stdout",
     "output_type": "stream",
     "text": [
      "Net(\n",
      "  (conv1): Conv1d(1024, 10, kernel_size=(65,), stride=(1,), padding=(32,))\n",
      "  (conv2): Conv1d(1024, 10, kernel_size=(129,), stride=(1,), padding=(64,))\n",
      "  (conv3): Conv1d(20, 10, kernel_size=(3,), stride=(1,))\n",
      "  (lstm): LSTM(10, 50, batch_first=True)\n",
      "  (fc_1): Linear(in_features=50, out_features=1, bias=True)\n",
      ")\n"
     ]
    }
   ],
   "source": [
    "from torch.autograd import Variable\n",
    "import torch.nn as nn\n",
    "import torch.nn.functional as F\n",
    "\n",
    "seq_len = train_data.size(1)\n",
    "seq_feat = train_data.size(2)\n",
    "num_seq = train_data.size(0)\n",
    "\n",
    "class Net(nn.Module):\n",
    "    def __init__(self, input_channels):\n",
    "        super(Net, self).__init__()\n",
    "        self.input_channels = input_channels\n",
    "        \n",
    "        self.conv1 = nn.Conv1d(in_channels = input_channels,\n",
    "                               out_channels = 10, # size output\n",
    "                               kernel_size = 65,\n",
    "                              padding = 32)\n",
    "        \n",
    "        self.conv2 = nn.Conv1d(in_channels = input_channels,\n",
    "                               out_channels = 10, # size output\n",
    "                               kernel_size = 129,\n",
    "                              padding = 64) \n",
    "        \n",
    "        self.conv3 = nn.Conv1d(in_channels = 20,\n",
    "                               out_channels = 10, # size output\n",
    "                               kernel_size = 3)\n",
    "        \n",
    "        self.lstm = nn.LSTM(input_size=10,\n",
    "                             hidden_size=50,\n",
    "                             num_layers=1,\n",
    "                             batch_first=True)\n",
    "        \n",
    "        self.fc_1 = nn.Linear(50,1)\n",
    "        \n",
    "        #self.dropout = nn.Dropout(p=0.3)\n",
    "        \n",
    "    def forward(self, x):\n",
    "                \n",
    "        x1 = self.conv1(x)\n",
    "        x1 = F.relu(x1)\n",
    "        x2 = self.conv2(x)\n",
    "        x2 = F.relu(x2)\n",
    "        x = torch.cat((x1,x2),1)\n",
    "        \n",
    "        x = self.conv3(x)\n",
    "        x = torch.transpose(x,1,2)\n",
    "        \n",
    "        #print(\"x: \",x.size())\n",
    "        \n",
    "        out,(h,c) = self.lstm(x)\n",
    "        \n",
    "        #print(\"out: \",out.size())\n",
    "        #print(\"h: \",h.size())\n",
    "        #print(\"c: \",c.size())\n",
    "        x = self.fc_1(out)\n",
    "        \n",
    "        return x.squeeze(-1)\n",
    "    \n",
    "net = Net(seq_feat)\n",
    "print(net)"
   ]
  },
  {
   "cell_type": "code",
   "execution_count": 22,
   "id": "ca4f08dd-6990-4e47-a853-9c11eea9327a",
   "metadata": {},
   "outputs": [
    {
     "data": {
      "text/plain": [
       "torch.Size([1, 100])"
      ]
     },
     "execution_count": 22,
     "metadata": {},
     "output_type": "execute_result"
    }
   ],
   "source": [
    "a = torch.transpose(train_data[0].unsqueeze(0),1,2)\n",
    "t = net(a)\n",
    "t.shape"
   ]
  },
  {
   "cell_type": "code",
   "execution_count": 23,
   "id": "a6ba8f3c-f1c1-4c6b-9d93-5a4bd2661d18",
   "metadata": {},
   "outputs": [],
   "source": [
    "# use Adam optimizer\n",
    "optimizer = torch.optim.Adam(params = net.parameters(), lr=1e-5,weight_decay=1e-7)\n",
    "criterion =  nn.CrossEntropyLoss()\n",
    "#criterion = nn.MSELoss() # for ASA"
   ]
  },
  {
   "cell_type": "code",
   "execution_count": 24,
   "id": "8a81edeb-06d7-4a75-b108-51e0d27201d8",
   "metadata": {},
   "outputs": [
    {
     "name": "stdout",
     "output_type": "stream",
     "text": [
      "Dims data:  torch.Size([279, 102, 1024]) torch.Size([21, 102, 1024]) torch.Size([21, 102, 1024])\n",
      "Dims targsets:  torch.Size([279, 100]) torch.Size([21, 100]) torch.Size([21, 100])\n"
     ]
    }
   ],
   "source": [
    "# preparing data:\n",
    "#a,b = 450,500\n",
    "#valid_data = tr_data[a:b]\n",
    "#train_data = torch.cat((tr_data[:a],tr_data[b:]),0)\n",
    "#test_data = te_data\n",
    "\n",
    "#valid_targ = tr_targ[a:b]\n",
    "#train_targ = torch.cat((tr_targ[:a],tr_targ[b:]),0)\n",
    "#train_targ = torch.cat((tr_targ_v2[:a],tr_targ_v2[b:]),0)\n",
    "#test_targ = te_targ\n",
    "\n",
    "print(\"Dims data: \",train_data.shape,valid_data.shape,test_data.shape)\n",
    "print(\"Dims targsets: \",train_targ.shape,valid_targ.shape,test_targ.shape)"
   ]
  },
  {
   "cell_type": "code",
   "execution_count": 25,
   "id": "7e67fe07-89be-413e-a902-b550013a035d",
   "metadata": {},
   "outputs": [],
   "source": [
    "from sklearn.metrics import accuracy_score\n",
    "\n",
    "# setting hyperparameters and gettings epoch sizes\n",
    "batch_size = 20\n",
    "num_epochs = 10\n",
    "num_samples_train = len(train_data)\n",
    "num_batches_train = num_samples_train // batch_size\n",
    "num_samples_valid = len(valid_data)\n",
    "num_batches_valid = num_samples_valid // batch_size\n",
    "\n",
    "# setting up lists for handling loss/accuracy\n",
    "train_acc, train_loss = [], []\n",
    "valid_acc, valid_loss = [], []\n",
    "test_acc, test_loss = [], []\n",
    "cur_loss = 0\n",
    "losses = []\n",
    "\n",
    "get_slice = lambda i, size: range(i * size, (i + 1) * size)"
   ]
  },
  {
   "cell_type": "code",
   "execution_count": 26,
   "id": "3ae0c1a5-8a77-4582-a329-5b8af1fc31d0",
   "metadata": {
    "tags": []
   },
   "outputs": [
    {
     "name": "stdout",
     "output_type": "stream",
     "text": [
      "Epoch  1 : Train Loss 2013.348494 , Train acc 0.136559, Valid acc 0.113586\n",
      "Epoch  2 : Train Loss 1987.703183 , Train acc 0.180795, Valid acc 0.118841\n",
      "Epoch  3 : Train Loss 1970.358334 , Train acc 0.221486, Valid acc 0.114908\n",
      "Epoch  4 : Train Loss 1954.107234 , Train acc 0.261532, Valid acc 0.118818\n",
      "Epoch  5 : Train Loss 1938.836990 , Train acc 0.293828, Valid acc 0.114191\n",
      "Epoch  6 : Train Loss 1924.748130 , Train acc 0.325915, Valid acc 0.120919\n",
      "Epoch  7 : Train Loss 1911.611700 , Train acc 0.350670, Valid acc 0.114374\n",
      "Epoch  8 : Train Loss 1899.270404 , Train acc 0.377924, Valid acc 0.122642\n",
      "Epoch  9 : Train Loss 1887.649680 , Train acc 0.397773, Valid acc 0.118034\n",
      "Epoch 10 : Train Loss 1876.744345 , Train acc 0.418992, Valid acc 0.121742\n"
     ]
    },
    {
     "data": {
      "text/plain": [
       "(Text(0.5, 0, 'Epochs'), Text(0, 0.5, 'PCC'))"
      ]
     },
     "execution_count": 26,
     "metadata": {},
     "output_type": "execute_result"
    },
    {
     "data": {
      "image/png": "[encoded data removed]",
      "text/plain": [
       "<Figure size 432x288 with 1 Axes>"
      ]
     },
     "metadata": {
      "needs_background": "light"
     },
     "output_type": "display_data"
    }
   ],
   "source": [
    "from sklearn.metrics import mean_squared_error\n",
    "# Data\n",
    "# train_data,valid_data,test_data\n",
    "# train_targ,valid_targ,test_targ\n",
    "\n",
    "for epoch in range(num_epochs):\n",
    "    # Forward -> Backprob -> Update params\n",
    "    ## Train\n",
    "    cur_loss = 0\n",
    "    net.train()\n",
    "      \n",
    "    ## Batchnorm\n",
    "    Batchnorm = nn.BatchNorm1d(100)\n",
    "    \n",
    "    for i in range(num_batches_train):\n",
    "        optimizer.zero_grad()\n",
    "        slce = get_slice(i, batch_size)\n",
    "        t = train_data[slce]\n",
    "        t = torch.transpose(t,1,2)\n",
    "        output = net(t)\n",
    "        \n",
    "        output = Batchnorm(output)\n",
    "                \n",
    "        # compute gradients given loss\n",
    "        target_batch = train_targ[slce]\n",
    "        \n",
    "        #print(\"output: \",output.shape)\n",
    "        #print(\"target: \",target_batch.shape)\n",
    "        \n",
    "        batch_loss = criterion(output, target_batch)\n",
    "        batch_loss.backward()\n",
    "        optimizer.step()\n",
    "        \n",
    "        cur_loss += batch_loss   \n",
    "    losses.append(cur_loss / batch_size)\n",
    "\n",
    "    net.eval()\n",
    "    \n",
    "    ### Evaluate training\n",
    "    train_preds, train_targs = [], []\n",
    "    for i in range(num_batches_train):\n",
    "        slce = get_slice(i, batch_size)\n",
    "        t = train_data[slce]\n",
    "        t = torch.transpose(t,1,2)\n",
    "        output = net(t)\n",
    "\n",
    "        train_targs += list(train_targ[slce].numpy())\n",
    "        train_preds += list(output.data.numpy())\n",
    "    \n",
    "    \n",
    "    ### Evaluate validation\n",
    "    val_preds, val_targs = [], []\n",
    "    for i in range(num_batches_valid):\n",
    "        slce = get_slice(i, batch_size)\n",
    "        v = valid_data[slce]\n",
    "        v = torch.transpose(v,1,2)\n",
    "        output = net(v)\n",
    "        \n",
    "        val_targs += list(valid_targ[slce].numpy())\n",
    "        val_preds += list(output.data.numpy())\n",
    "        \n",
    "    \n",
    "    train_targs = np.concatenate(train_targs)\n",
    "    train_preds = np.concatenate(train_preds)\n",
    "    val_targs = np.concatenate(val_targs)\n",
    "    val_preds = np.concatenate(val_preds)\n",
    "    \n",
    "    train_acc_cur = np.abs((np.cov(train_targs,train_preds)[0,1])/(np.std(train_targs)*np.std(train_preds)))\n",
    "    valid_acc_cur = np.abs((np.cov(val_targs,val_preds)[0,1])/(np.std(val_targs)*np.std(val_preds)))\n",
    "    \n",
    "    train_acc.append(train_acc_cur)\n",
    "    valid_acc.append(valid_acc_cur)\n",
    "    \n",
    "    \n",
    "    print(\"Epoch %2i : Train Loss %f , Train acc %f, Valid acc %f\" % (\n",
    "        epoch+1, losses[-1], train_acc_cur, valid_acc_cur))\n",
    "    \n",
    "    \n",
    "epoch = np.arange(len(train_acc))\n",
    "plt.figure()\n",
    "plt.plot(epoch, train_acc, 'r', epoch, valid_acc, 'b')\n",
    "plt.legend(['PCC Train','PCC Validation'])\n",
    "plt.xlabel('Epochs'), plt.ylabel('PCC')"
   ]
  },
  {
   "cell_type": "code",
   "execution_count": 28,
   "id": "906ca6a6-8adb-4330-ad05-79610a0c4f56",
   "metadata": {},
   "outputs": [
    {
     "name": "stdout",
     "output_type": "stream",
     "text": [
      "0.06367431628390229\n"
     ]
    }
   ],
   "source": [
    "# Using the model on the test data\n",
    "v = torch.transpose(test_data,1,2)\n",
    "output_test = net(v)\n",
    "\n",
    "tst_preds, tst_targs = [], []\n",
    "tst_targs += list(test_targ.numpy())\n",
    "tst_preds += list(output_test.data.numpy())\n",
    "\n",
    "tst_targs = np.concatenate(tst_targs)\n",
    "tst_preds = np.concatenate(tst_preds)\n",
    "\n",
    "test_acc = abs((np.cov(tst_targs,tst_preds)[0,1])/(np.std(tst_targs)*np.std(tst_preds)))\n",
    "print(test_acc)"
   ]
  }
 ],
 "metadata": {
  "kernelspec": {
   "display_name": "Python 3 (ipykernel)",
   "language": "python",
   "name": "python3"
  },
  "language_info": {
   "codemirror_mode": {
    "name": "ipython",
    "version": 3
   },
   "file_extension": ".py",
   "mimetype": "text/x-python",
   "name": "python",
   "nbconvert_exporter": "python",
   "pygments_lexer": "ipython3",
   "version": "3.9.12"
  }
 },
 "nbformat": 4,
 "nbformat_minor": 5
}
